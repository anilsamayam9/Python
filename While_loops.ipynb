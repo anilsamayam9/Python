{
 "cells": [
  {
   "cell_type": "code",
   "execution_count": 1,
   "id": "97ff58cc",
   "metadata": {},
   "outputs": [
    {
     "name": "stdout",
     "output_type": "stream",
     "text": [
      "30\n"
     ]
    }
   ],
   "source": [
    "i = 1\n",
    "sum = 0\n",
    "while i <= 10 :\n",
    "    if i%2 == 0 :\n",
    "        sum = sum + i\n",
    "    i+=1\n",
    "print(sum)"
   ]
  },
  {
   "cell_type": "code",
   "execution_count": 5,
   "id": "88543ae5",
   "metadata": {},
   "outputs": [
    {
     "name": "stdout",
     "output_type": "stream",
     "text": [
      "enter a number98765\n",
      "56789\n"
     ]
    }
   ],
   "source": [
    "n = int(input(\"enter a number\"))\n",
    "nr = 0\n",
    "while n%10!=0 :\n",
    "    c=n%10\n",
    "    nr = nr*10 + c\n",
    "    n = n//10\n",
    "print(nr)\n",
    "    \n",
    "    "
   ]
  },
  {
   "cell_type": "code",
   "execution_count": 14,
   "id": "64fb1b2d",
   "metadata": {},
   "outputs": [
    {
     "ename": "NameError",
     "evalue": "name 'indexError' is not defined",
     "output_type": "error",
     "traceback": [
      "\u001b[1;31m---------------------------------------------------------------------------\u001b[0m",
      "\u001b[1;31mIndexError\u001b[0m                                Traceback (most recent call last)",
      "\u001b[1;32m<ipython-input-14-3512139bd3a1>\u001b[0m in \u001b[0;36m<module>\u001b[1;34m\u001b[0m\n\u001b[0;32m      4\u001b[0m \u001b[1;32mtry\u001b[0m \u001b[1;33m:\u001b[0m\u001b[1;33m\u001b[0m\u001b[1;33m\u001b[0m\u001b[0m\n\u001b[1;32m----> 5\u001b[1;33m     \u001b[1;32mwhile\u001b[0m \u001b[0mx\u001b[0m\u001b[1;33m[\u001b[0m\u001b[0mi\u001b[0m\u001b[1;33m]\u001b[0m \u001b[1;33m:\u001b[0m\u001b[1;33m\u001b[0m\u001b[1;33m\u001b[0m\u001b[0m\n\u001b[0m\u001b[0;32m      6\u001b[0m       \u001b[0mlen\u001b[0m\u001b[1;33m+=\u001b[0m\u001b[1;36m1\u001b[0m\u001b[1;33m\u001b[0m\u001b[1;33m\u001b[0m\u001b[0m\n",
      "\u001b[1;31mIndexError\u001b[0m: list index out of range",
      "\nDuring handling of the above exception, another exception occurred:\n",
      "\u001b[1;31mNameError\u001b[0m                                 Traceback (most recent call last)",
      "\u001b[1;32m<ipython-input-14-3512139bd3a1>\u001b[0m in \u001b[0;36m<module>\u001b[1;34m\u001b[0m\n\u001b[0;32m      6\u001b[0m       \u001b[0mlen\u001b[0m\u001b[1;33m+=\u001b[0m\u001b[1;36m1\u001b[0m\u001b[1;33m\u001b[0m\u001b[1;33m\u001b[0m\u001b[0m\n\u001b[0;32m      7\u001b[0m       \u001b[0mi\u001b[0m\u001b[1;33m+=\u001b[0m\u001b[1;36m1\u001b[0m\u001b[1;33m\u001b[0m\u001b[1;33m\u001b[0m\u001b[0m\n\u001b[1;32m----> 8\u001b[1;33m \u001b[1;32mexcept\u001b[0m \u001b[0mindexError\u001b[0m \u001b[1;33m:\u001b[0m\u001b[1;33m\u001b[0m\u001b[1;33m\u001b[0m\u001b[0m\n\u001b[0m\u001b[0;32m      9\u001b[0m     \u001b[0mprint\u001b[0m\u001b[1;33m(\u001b[0m\u001b[0mlen\u001b[0m\u001b[1;33m)\u001b[0m\u001b[1;33m\u001b[0m\u001b[1;33m\u001b[0m\u001b[0m\n",
      "\u001b[1;31mNameError\u001b[0m: name 'indexError' is not defined"
     ]
    }
   ],
   "source": [
    "x = [ 1,2,3,4,5,5,7,7,'anil','kumar']\n",
    "len = 0\n",
    "i = 0\n",
    "try :\n",
    "    while x[i] :\n",
    "      len+=1\n",
    "      i+=1\n",
    "except indexError :    \n",
    "    print(len)"
   ]
  },
  {
   "cell_type": "code",
   "execution_count": 22,
   "id": "d80ab2e1",
   "metadata": {},
   "outputs": [
    {
     "name": "stdout",
     "output_type": "stream",
     "text": [
      "enter the number9\n",
      "1\n",
      "22\n",
      "333\n",
      "4444\n",
      "55555\n",
      "666666\n",
      "7777777\n",
      "88888888\n",
      "999999999\n"
     ]
    }
   ],
   "source": [
    "n = int(input(\"enter the number\"))\n",
    "i = 1\n",
    "\n",
    "\n",
    "while i<=n :\n",
    "    j = 1\n",
    "    while j<=i :\n",
    "        print(i, end='')\n",
    "        j+=1\n",
    "    i+=1\n",
    "    print()\n",
    "    "
   ]
  },
  {
   "cell_type": "code",
   "execution_count": 38,
   "id": "e38cca6a",
   "metadata": {},
   "outputs": [
    {
     "name": "stdout",
     "output_type": "stream",
     "text": [
      "7384\n",
      "Enter the value8764\n",
      "1 enter value was correct\n",
      "Enter the value8764\n",
      "1 enter value was correct\n",
      "Enter the value7384\n",
      "congrats! you enter the values mathed\n",
      "0 enter value was correct\n",
      "Enter the value8765\n",
      "0 enter value was correct\n",
      "Enter the value78745687\n",
      "1 enter value was correct\n",
      "Enter the value10\n",
      "quite the game\n"
     ]
    }
   ],
   "source": [
    "import random \n",
    "nump = random.randint(1000,9999)\n",
    "print(nump)\n",
    "n = int(input(\"Enter the value\"))\n",
    "while n!=10 :\n",
    "    num = nump\n",
    "    cor = 0\n",
    "    while num%10:\n",
    "        numc= num%10\n",
    "        nc=n%10\n",
    "        num=num//10\n",
    "        n=n//10\n",
    "        if numc==nc :\n",
    "            cor=cor+1\n",
    "    if cor==4 :\n",
    "        print(\"congrats! you enter the values matched\")\n",
    "    else :\n",
    "        print(\"%d enter value was correct\"%cor)\n",
    "        n = int(input(\"Enter the value\"))   \n",
    "else :\n",
    "    print(\"quite the game\")\n",
    "    \n"
   ]
  },
  {
   "cell_type": "code",
   "execution_count": null,
   "id": "f1c0fde0",
   "metadata": {},
   "outputs": [],
   "source": []
  }
 ],
 "metadata": {
  "kernelspec": {
   "display_name": "Python 3",
   "language": "python",
   "name": "python3"
  },
  "language_info": {
   "codemirror_mode": {
    "name": "ipython",
    "version": 3
   },
   "file_extension": ".py",
   "mimetype": "text/x-python",
   "name": "python",
   "nbconvert_exporter": "python",
   "pygments_lexer": "ipython3",
   "version": "3.9.4"
  }
 },
 "nbformat": 4,
 "nbformat_minor": 5
}
