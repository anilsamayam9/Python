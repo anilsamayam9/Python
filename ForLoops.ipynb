{
 "cells": [
  {
   "cell_type": "code",
   "execution_count": 8,
   "id": "57eccccc",
   "metadata": {},
   "outputs": [
    {
     "name": "stdout",
     "output_type": "stream",
     "text": [
      "enter the number8\n",
      "1\n",
      "12\n",
      "123\n",
      "1234\n",
      "12345\n",
      "123456\n",
      "1234567\n",
      "12345678\n"
     ]
    }
   ],
   "source": [
    "n = int(input('enter the number'))\n",
    "for i in range(1,n+1):\n",
    "    for j in range(1,i+1):\n",
    "      print(j, end='')\n",
    "    print()\n"
   ]
  },
  {
   "cell_type": "code",
   "execution_count": 15,
   "id": "6a0a7011",
   "metadata": {},
   "outputs": [
    {
     "name": "stdout",
     "output_type": "stream",
     "text": [
      "no of rows4\n",
      "no of columns4\n",
      "enter the 0 * 0 element1\n",
      "enter the 0 * 1 element2\n",
      "enter the 0 * 2 element2\n",
      "enter the 0 * 3 element2\n",
      "enter the 1 * 0 element2\n",
      "enter the 1 * 1 element2\n",
      "enter the 1 * 2 element2\n",
      "enter the 1 * 3 element2\n",
      "enter the 2 * 0 element2\n",
      "enter the 2 * 1 element2\n",
      "enter the 2 * 2 element2\n",
      "enter the 2 * 3 element2\n",
      "enter the 3 * 0 element2\n",
      "enter the 3 * 1 element2\n",
      "enter the 3 * 2 element2\n",
      "enter the 3 * 3 element2\n",
      "enter the 0 * 0 element2\n",
      "enter the 0 * 1 element2\n",
      "enter the 0 * 2 element2\n",
      "enter the 0 * 3 element2\n",
      "enter the 1 * 0 element2\n",
      "enter the 1 * 1 element2\n",
      "enter the 1 * 2 element2\n",
      "enter the 1 * 3 element2\n",
      "enter the 2 * 0 element2\n",
      "enter the 2 * 1 element2\n",
      "enter the 2 * 2 element2\n",
      "enter the 2 * 3 element2\n",
      "enter the 3 * 0 element2\n",
      "enter the 3 * 1 element2\n",
      "enter the 3 * 2 element2\n",
      "enter the 3 * 3 element2\n",
      "[[3, 4, 4, 4], [4, 4, 4, 4], [4, 4, 4, 4], [4, 4, 4, 4]]\n"
     ]
    }
   ],
   "source": [
    "r = int(input('no of rows'))\n",
    "c = int(input('no of columns'))\n",
    "x=[]\n",
    "val = []\n",
    "for i in range(0,r):\n",
    "  for j in range(0,c):\n",
    "    val.insert(j,int(input(\"enter the %d * %d element\" %(i,j))))\n",
    "  x.insert(i,val)\n",
    "  val=[]  \n",
    "y=[]\n",
    "for i in range(0,r):\n",
    "  for j in range(0,c):\n",
    "    val.insert(j,int(input(\"enter the %d * %d element\" %(i,j))))\n",
    "  y.insert(i,val)\n",
    "  val =[]\n",
    "sum = []\n",
    "\n",
    "for i in range(0,r):\n",
    "    for j in range(0,c):\n",
    "        val.insert(j,x[i][j]+y[i][j])\n",
    "    sum.insert(i,val)\n",
    "    val = []\n",
    "print(sum)    "
   ]
  },
  {
   "cell_type": "markdown",
   "id": "c75929ae",
   "metadata": {},
   "source": [
    "i = o\n",
    "while i >= 0:\n",
    "  print(\"anil\")\n",
    "i + = 1"
   ]
  },
  {
   "cell_type": "code",
   "execution_count": null,
   "id": "79fd4033",
   "metadata": {},
   "outputs": [],
   "source": [
    "i = 1 \n",
    "while i <= 10 : \n",
    "    print(\"anil\") \n",
    "i+= 1"
   ]
  },
  {
   "cell_type": "code",
   "execution_count": null,
   "id": "730c5fc1",
   "metadata": {},
   "outputs": [],
   "source": []
  }
 ],
 "metadata": {
  "kernelspec": {
   "display_name": "Python 3",
   "language": "python",
   "name": "python3"
  },
  "language_info": {
   "codemirror_mode": {
    "name": "ipython",
    "version": 3
   },
   "file_extension": ".py",
   "mimetype": "text/x-python",
   "name": "python",
   "nbconvert_exporter": "python",
   "pygments_lexer": "ipython3",
   "version": "3.9.4"
  }
 },
 "nbformat": 4,
 "nbformat_minor": 5
}
