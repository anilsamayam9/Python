{
 "cells": [
  {
   "cell_type": "code",
   "execution_count": 5,
   "id": "f610a42d",
   "metadata": {},
   "outputs": [
    {
     "name": "stdout",
     "output_type": "stream",
     "text": [
      "hello world\n"
     ]
    }
   ],
   "source": [
    "from colorama import init\n",
    "from termcolor import colored\n",
    "init()\n",
    "print(colored(\"hello world\", \"white\", \"on_red\"))"
   ]
  },
  {
   "cell_type": "code",
   "execution_count": 12,
   "id": "1ed0d93b",
   "metadata": {},
   "outputs": [
    {
     "name": "stdout",
     "output_type": "stream",
     "text": [
      "0\n",
      "Not thrown\n",
      "done\n"
     ]
    }
   ],
   "source": [
    "def throw_exception(num):\n",
    "    if(num==1):raise Exception(\"Argument o is not defined\")\n",
    "    else: print(num)\n",
    "\n",
    "try:\n",
    "    throw_exception(0)\n",
    "except Exception as ex:\n",
    "    print(ex)\n",
    "else: print(\"Not thrown\")\n",
    "finally:\n",
    "    print(\"done\")"
   ]
  },
  {
   "cell_type": "code",
   "execution_count": 21,
   "id": "3bd8dbfc",
   "metadata": {},
   "outputs": [
    {
     "name": "stdout",
     "output_type": "stream",
     "text": [
      "Raised MyException\n"
     ]
    }
   ],
   "source": [
    "class MyException(Exception):\n",
    "    def __init__(self):\n",
    "        super(Exception, self).__init__()\n",
    "        self.args = (\"Raised MyException\",)\n",
    "try:\n",
    "    raise MyException()\n",
    "except MyException as ex:\n",
    "    print(ex)\n"
   ]
  },
  {
   "cell_type": "code",
   "execution_count": null,
   "id": "4a3f2821",
   "metadata": {},
   "outputs": [],
   "source": []
  }
 ],
 "metadata": {
  "kernelspec": {
   "display_name": "Python 3",
   "language": "python",
   "name": "python3"
  },
  "language_info": {
   "codemirror_mode": {
    "name": "ipython",
    "version": 3
   },
   "file_extension": ".py",
   "mimetype": "text/x-python",
   "name": "python",
   "nbconvert_exporter": "python",
   "pygments_lexer": "ipython3",
   "version": "3.9.4"
  }
 },
 "nbformat": 4,
 "nbformat_minor": 5
}
