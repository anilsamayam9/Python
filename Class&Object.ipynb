{
 "cells": [
  {
   "cell_type": "code",
   "execution_count": 14,
   "id": "75aa57c6",
   "metadata": {},
   "outputs": [
    {
     "name": "stdout",
     "output_type": "stream",
     "text": [
      "enter the nameANil\n",
      "enter the genderMale\n",
      "enter the age17\n",
      "Hi! Dear ANil\n",
      "you'r not eligible for vote\n"
     ]
    }
   ],
   "source": [
    "class person :\n",
    "    def __init__(self):\n",
    "        self.name = str(input(\"enter the name\"))\n",
    "        self.gender = str(input(\"enter the gender\"))\n",
    "        self.age = int(input(\"enter the age\"))\n",
    "    def talk(self):\n",
    "        print(\"Hi! Dear\", self.name)\n",
    "    def vote(self):\n",
    "        if self.age >=18 :\n",
    "            print(\"you'religible for vote\")\n",
    "        else :\n",
    "            print(\"you'r not eligible for vote\")\n",
    "            \n",
    "obj = person()\n",
    "person.talk(obj)\n",
    "person.vote(obj)\n",
    "    "
   ]
  },
  {
   "cell_type": "code",
   "execution_count": 15,
   "id": "8bf2875d",
   "metadata": {},
   "outputs": [],
   "source": [
    "## Threads"
   ]
  },
  {
   "cell_type": "code",
   "execution_count": 19,
   "id": "fd45380f",
   "metadata": {},
   "outputs": [
    {
     "name": "stdout",
     "output_type": "stream",
     "text": [
      "This is a child thread\n",
      "this is a parent thread\n"
     ]
    }
   ],
   "source": [
    "from threading import *\n",
    "def show():\n",
    "    print(\"This is a child thread\")\n",
    "t=Thread(target= show())\n",
    "t.start()\n",
    "print(\"this is a parent thread\")\n",
    "\n"
   ]
  },
  {
   "cell_type": "code",
   "execution_count": 20,
   "id": "61a17d60",
   "metadata": {},
   "outputs": [
    {
     "name": "stdout",
     "output_type": "stream",
     "text": [
      "this is a child class\n",
      "this is a child class\n",
      "this is parent class\n",
      "this is parent class\n",
      "this is parent class\n",
      "this is parent class\n",
      "this is a child class\n",
      "this is a child class\n",
      "this is parent class\n",
      "this is a child class\n"
     ]
    }
   ],
   "source": [
    "from threading import *\n",
    "class MyThread(Thread):\n",
    "    def run(self):\n",
    "        for i in range(5):\n",
    "            print(\"this is a child class\")\n",
    "t=MyThread()\n",
    "t.start()\n",
    "for i in range(5):\n",
    "    print(\"this is parent class\")"
   ]
  },
  {
   "cell_type": "code",
   "execution_count": 29,
   "id": "4c60f199",
   "metadata": {},
   "outputs": [
    {
     "name": "stdout",
     "output_type": "stream",
     "text": [
      "the number is 1\n",
      "the number is 2\n",
      "the number is 1\n",
      "the number is 2\n",
      "the number is 4\n",
      "the number is 4\n",
      "the number is 3\n",
      "the number is 6\n",
      "the number is 9\n",
      "the number is 4\n",
      "the number is 8\n",
      "the number is 16\n",
      "the number is 5\n",
      "the number is 10\n",
      "the number is 25\n",
      "this is main thread\n"
     ]
    }
   ],
   "source": [
    "from threading import *\n",
    "import time\n",
    "class demo:\n",
    "    def num(self):\n",
    "        for i in range(1,6):\n",
    "            print(\"the number is\", i)\n",
    "            time.sleep(1)\n",
    "    def double(self):\n",
    "        for i in range(1,6):\n",
    "            print(\"the number is\", 2*i)\n",
    "            time.sleep(1)\n",
    "    def squre(self):\n",
    "        for i in range(1,6):\n",
    "            print(\"the number is\", i*i)\n",
    "            time.sleep(1)\n",
    "\n",
    "obj=demo()\n",
    "t1=Thread(target=obj.num)\n",
    "t2=Thread(target=obj.double)\n",
    "t3=Thread(target=obj.squre)\n",
    "\n",
    "t1.start()\n",
    "t2.start()\n",
    "t3.start()\n",
    "\n",
    "t1.join()\n",
    "t2.join()\n",
    "t3.join()\n",
    "\n",
    "print(\"this is main thread\")\n",
    "\n",
    "        "
   ]
  },
  {
   "cell_type": "code",
   "execution_count": 30,
   "id": "38b11ea1",
   "metadata": {},
   "outputs": [
    {
     "name": "stdout",
     "output_type": "stream",
     "text": [
      "Blu is a bird\n",
      "Woo is also a bird\n",
      "Blu is 10 years old\n",
      "Woo is 15 years old\n"
     ]
    }
   ],
   "source": [
    "class Parrot:\n",
    "    species = \"bird\"\n",
    "    def __init__(self, name, age):\n",
    "        self.name = name\n",
    "        self.age = age\n",
    "blu = Parrot(\"Blu\", 10)\n",
    "woo = Parrot(\"Woo\", 15)\n",
    "\n",
    "print(\"Blu is a {}\".format(blu.__class__.species))\n",
    "print(\"Woo is also a {}\".format(woo.__class__.species))\n",
    "\n",
    "print(\"{} is {} years old\".format( blu.name, blu.age))\n",
    "print(\"{} is {} years old\".format( woo.name, woo.age))"
   ]
  },
  {
   "cell_type": "code",
   "execution_count": 44,
   "id": "b12f068f",
   "metadata": {},
   "outputs": [
    {
     "name": "stdout",
     "output_type": "stream",
     "text": [
      "baby sings 'Happy'\n",
      "baby is now dancing\n",
      "baby is now turn into 10\n"
     ]
    }
   ],
   "source": [
    "class Parrot:\n",
    "\n",
    "    def __init__(self, name, age):\n",
    "        self.name = name\n",
    "        self.age = age\n",
    "        \n",
    "    def sing(self, song):\n",
    "        return \"{} sings {}\".format(self.name, song)\n",
    "\n",
    "    def dance(self):\n",
    "        return \"{} is now dancing\".format(self.name)\n",
    "    \n",
    "    def agea(self):\n",
    "        return \"{} is now turn into {}\".format(self.name, self.age)\n",
    "    \n",
    "blu = Parrot(\"baby\", 10)\n",
    "\n",
    "print(blu.sing(\"'Happy'\"))\n",
    "print(blu.dance())\n",
    "print(blu.agea())"
   ]
  },
  {
   "cell_type": "code",
   "execution_count": 45,
   "id": "c9dff458",
   "metadata": {},
   "outputs": [
    {
     "name": "stdout",
     "output_type": "stream",
     "text": [
      "Bird is ready\n",
      "Penguin is ready\n",
      "Penguin\n",
      "Swim faster\n",
      "Run faster\n"
     ]
    }
   ],
   "source": [
    "class Bird:\n",
    "    \n",
    "    def __init__(self):\n",
    "        print(\"Bird is ready\")\n",
    "\n",
    "    def whoisThis(self):\n",
    "        print(\"Bird\")\n",
    "\n",
    "    def swim(self):\n",
    "        print(\"Swim faster\")\n",
    "\n",
    "# child class\n",
    "class Penguin(Bird):\n",
    "\n",
    "    def __init__(self):\n",
    "        super().__init__()\n",
    "        print(\"Penguin is ready\")\n",
    "\n",
    "    def whoisThis(self):\n",
    "        print(\"Penguin\")\n",
    "\n",
    "    def run(self):\n",
    "        print(\"Run faster\")\n",
    "\n",
    "peggy = Penguin()\n",
    "peggy.whoisThis()\n",
    "peggy.swim()\n",
    "peggy.run()"
   ]
  },
  {
   "cell_type": "code",
   "execution_count": 46,
   "id": "7ca471c2",
   "metadata": {},
   "outputs": [
    {
     "name": "stdout",
     "output_type": "stream",
     "text": [
      "Selling Price: 900\n",
      "Selling Price: 900\n",
      "Selling Price: 1000\n"
     ]
    }
   ],
   "source": [
    "class Computer:\n",
    "\n",
    "    def __init__(self):\n",
    "        self.__maxprice = 900\n",
    "\n",
    "    def sell(self):\n",
    "        print(\"Selling Price: {}\".format(self.__maxprice))\n",
    "\n",
    "    def setMaxPrice(self, price):\n",
    "        self.__maxprice = price\n",
    "\n",
    "c = Computer()\n",
    "c.sell()\n",
    "\n",
    "c.__maxprice = 1000\n",
    "c.sell()\n",
    "\n",
    "c.setMaxPrice(1000)\n",
    "c.sell()"
   ]
  },
  {
   "cell_type": "code",
   "execution_count": 53,
   "id": "251f84df",
   "metadata": {},
   "outputs": [
    {
     "name": "stdout",
     "output_type": "stream",
     "text": [
      "Parrot can fly\n",
      "Penguin can't fly\n",
      "Parrot can't swim\n",
      "Penguin can swim\n"
     ]
    }
   ],
   "source": [
    "class Parrot:\n",
    "\n",
    "    def fly(self):\n",
    "        print(\"Parrot can fly\")\n",
    "    \n",
    "    def swim(self):\n",
    "        print(\"Parrot can't swim\")\n",
    "\n",
    "class Penguin:\n",
    "\n",
    "    def fly(self):\n",
    "        print(\"Penguin can't fly\")\n",
    "    \n",
    "    def swim(self):\n",
    "        print(\"Penguin can swim\")\n",
    "\n",
    "# common interface\n",
    "def flying_test(bird):\n",
    "    bird.fly()\n",
    "    \n",
    "def swim_test(bird):\n",
    "    bird.swim()\n",
    "#instantiate objects\n",
    "blu = Parrot()\n",
    "peggy = Penguin()\n",
    "\n",
    "# passing the object\n",
    "flying_test(blu)\n",
    "flying_test(peggy)\n",
    "\n",
    "swim_test(blu)\n",
    "swim_test(peggy)"
   ]
  },
  {
   "cell_type": "code",
   "execution_count": null,
   "id": "f8891960",
   "metadata": {},
   "outputs": [],
   "source": []
  }
 ],
 "metadata": {
  "kernelspec": {
   "display_name": "Python 3",
   "language": "python",
   "name": "python3"
  },
  "language_info": {
   "codemirror_mode": {
    "name": "ipython",
    "version": 3
   },
   "file_extension": ".py",
   "mimetype": "text/x-python",
   "name": "python",
   "nbconvert_exporter": "python",
   "pygments_lexer": "ipython3",
   "version": "3.9.4"
  }
 },
 "nbformat": 4,
 "nbformat_minor": 5
}
