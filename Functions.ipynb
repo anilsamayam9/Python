{
 "cells": [
  {
   "cell_type": "code",
   "execution_count": 1,
   "id": "29810260",
   "metadata": {},
   "outputs": [
    {
     "name": "stdout",
     "output_type": "stream",
     "text": [
      "Welcome!\n"
     ]
    }
   ],
   "source": [
    "def my_func():\n",
    "    print(\"Welcome!\")\n",
    "my_func()"
   ]
  },
  {
   "cell_type": "code",
   "execution_count": 16,
   "id": "0d7a1be2",
   "metadata": {},
   "outputs": [
    {
     "name": "stdout",
     "output_type": "stream",
     "text": [
      "the sum is 7\n",
      "enter value7\n",
      "enter value8\n",
      "the sum is 15\n"
     ]
    }
   ],
   "source": [
    "def add(a,b):\n",
    "  total=a+b\n",
    "  print(\"the sum is\", total)\n",
    "add(2,5)\n",
    "x=int(input(\"enter value\"))\n",
    "y=int(input(\"enter value\"))\n",
    "add(x,y)\n",
    "    "
   ]
  },
  {
   "cell_type": "code",
   "execution_count": null,
   "id": "3eadec3b",
   "metadata": {},
   "outputs": [],
   "source": []
  }
 ],
 "metadata": {
  "kernelspec": {
   "display_name": "Python 3",
   "language": "python",
   "name": "python3"
  },
  "language_info": {
   "codemirror_mode": {
    "name": "ipython",
    "version": 3
   },
   "file_extension": ".py",
   "mimetype": "text/x-python",
   "name": "python",
   "nbconvert_exporter": "python",
   "pygments_lexer": "ipython3",
   "version": "3.9.4"
  }
 },
 "nbformat": 4,
 "nbformat_minor": 5
}
